{
 "cells": [
  {
   "cell_type": "markdown",
   "id": "64ea04d7-d4fc-48bc-b433-19435ccdf9d2",
   "metadata": {},
   "source": [
    "Q1. Create a Pandas Series that contains the following data: 4, 8, 15, 16, 23, and 42. Then, print the series."
   ]
  },
  {
   "cell_type": "code",
   "execution_count": 1,
   "id": "ebc2e96c-74ce-43cb-8fe3-ef2a95e7022e",
   "metadata": {},
   "outputs": [],
   "source": [
    "import pandas"
   ]
  },
  {
   "cell_type": "code",
   "execution_count": 2,
   "id": "977f2697-75c2-4c29-873f-25ab72d3f37a",
   "metadata": {},
   "outputs": [],
   "source": [
    "data = [4,8,15,16,23,42]"
   ]
  },
  {
   "cell_type": "code",
   "execution_count": 3,
   "id": "a4b577f9-38ca-470b-a21a-b30d939d02a7",
   "metadata": {},
   "outputs": [],
   "source": [
    "series = pandas.Series(data)"
   ]
  },
  {
   "cell_type": "code",
   "execution_count": 4,
   "id": "f75681ff-bc1d-46c8-b777-85625d8354c1",
   "metadata": {},
   "outputs": [
    {
     "name": "stdout",
     "output_type": "stream",
     "text": [
      "0     4\n",
      "1     8\n",
      "2    15\n",
      "3    16\n",
      "4    23\n",
      "5    42\n",
      "dtype: int64\n"
     ]
    }
   ],
   "source": [
    "print(series)"
   ]
  },
  {
   "cell_type": "markdown",
   "id": "9010f124-b323-4c32-a9c1-51edae36a524",
   "metadata": {},
   "source": [
    "Q2. Create a variable of list type containing 10 elements in it, and apply pandas.Series function on the\n",
    "variable print it."
   ]
  },
  {
   "cell_type": "code",
   "execution_count": 5,
   "id": "09f27977-6838-44b3-b626-a214cb03934d",
   "metadata": {},
   "outputs": [],
   "source": [
    "var = [1,2,3,4,5,6,7,8,9,10]"
   ]
  },
  {
   "cell_type": "code",
   "execution_count": 6,
   "id": "e2c72019-b3c4-4bec-a539-a0a2338ba3c2",
   "metadata": {},
   "outputs": [],
   "source": [
    "show = pandas.Series(var)"
   ]
  },
  {
   "cell_type": "code",
   "execution_count": 7,
   "id": "dd4d7598-c737-4796-b057-8f48a7c669ed",
   "metadata": {},
   "outputs": [
    {
     "name": "stdout",
     "output_type": "stream",
     "text": [
      "0     1\n",
      "1     2\n",
      "2     3\n",
      "3     4\n",
      "4     5\n",
      "5     6\n",
      "6     7\n",
      "7     8\n",
      "8     9\n",
      "9    10\n",
      "dtype: int64\n"
     ]
    }
   ],
   "source": [
    "print(show)"
   ]
  },
  {
   "cell_type": "markdown",
   "id": "ed33c84c-d993-45e7-a274-ed4ef7234bd8",
   "metadata": {},
   "source": [
    "Q3. Create a Pandas DataFrame that contains the following data:"
   ]
  },
  {
   "cell_type": "code",
   "execution_count": 8,
   "id": "1d53bf9c-5af3-4400-8636-566754d32b89",
   "metadata": {},
   "outputs": [],
   "source": [
    "data = {\"name\" : [\"Alice\",\"Bob\",\"Claire\"],\n",
    "         \"age\" : [25,30,27],\n",
    "       \"gender\" : [\"Female\",\"Male\",\"Female\"]}"
   ]
  },
  {
   "cell_type": "code",
   "execution_count": 9,
   "id": "9e470b99-42f0-4fd6-b8fd-d967265d2dba",
   "metadata": {},
   "outputs": [
    {
     "data": {
      "text/html": [
       "<div>\n",
       "<style scoped>\n",
       "    .dataframe tbody tr th:only-of-type {\n",
       "        vertical-align: middle;\n",
       "    }\n",
       "\n",
       "    .dataframe tbody tr th {\n",
       "        vertical-align: top;\n",
       "    }\n",
       "\n",
       "    .dataframe thead th {\n",
       "        text-align: right;\n",
       "    }\n",
       "</style>\n",
       "<table border=\"1\" class=\"dataframe\">\n",
       "  <thead>\n",
       "    <tr style=\"text-align: right;\">\n",
       "      <th></th>\n",
       "      <th>name</th>\n",
       "      <th>age</th>\n",
       "      <th>gender</th>\n",
       "    </tr>\n",
       "  </thead>\n",
       "  <tbody>\n",
       "    <tr>\n",
       "      <th>0</th>\n",
       "      <td>Alice</td>\n",
       "      <td>25</td>\n",
       "      <td>Female</td>\n",
       "    </tr>\n",
       "    <tr>\n",
       "      <th>1</th>\n",
       "      <td>Bob</td>\n",
       "      <td>30</td>\n",
       "      <td>Male</td>\n",
       "    </tr>\n",
       "    <tr>\n",
       "      <th>2</th>\n",
       "      <td>Claire</td>\n",
       "      <td>27</td>\n",
       "      <td>Female</td>\n",
       "    </tr>\n",
       "  </tbody>\n",
       "</table>\n",
       "</div>"
      ],
      "text/plain": [
       "     name  age  gender\n",
       "0   Alice   25  Female\n",
       "1     Bob   30    Male\n",
       "2  Claire   27  Female"
      ]
     },
     "execution_count": 9,
     "metadata": {},
     "output_type": "execute_result"
    }
   ],
   "source": [
    "pandas.DataFrame(data)"
   ]
  },
  {
   "cell_type": "markdown",
   "id": "a7d11d14-4ce6-47a4-b59e-8f3d140b178b",
   "metadata": {},
   "source": [
    "Q4. What is ‘DataFrame’ in pandas and how is it different from pandas.series? Explain with an example."
   ]
  },
  {
   "cell_type": "markdown",
   "id": "d095ad95-8ccf-48c4-a982-3ee4040117f5",
   "metadata": {},
   "source": [
    "data frame is a 2 dimensional labeled data structure that stores data in tabular form and it allows to store manipulate heterogeneous data types.\n",
    "series is a one dimensional labeled data structure that store single data type."
   ]
  },
  {
   "cell_type": "code",
   "execution_count": 10,
   "id": "eea85f28-d160-4f2c-b2f6-694a23f74222",
   "metadata": {},
   "outputs": [],
   "source": [
    "data1 = {\"name\" : [\"faizan\",\"furkan\",\"Grish\",\"satish\"],\n",
    "         \"education\" : [\"bsc physics\",\"bsc zoology\", \"bsc chemistry\", \"bsc physics + medical coding\"],\n",
    "         \"IQ\" : [10, 9, 9.5, \"10+\"]\n",
    "         }\n",
    "         "
   ]
  },
  {
   "cell_type": "code",
   "execution_count": 22,
   "id": "032c3bbd-c238-4e24-95c8-beb666d6f3b5",
   "metadata": {},
   "outputs": [],
   "source": [
    "dataa = pandas.DataFrame(data1)"
   ]
  },
  {
   "cell_type": "code",
   "execution_count": 23,
   "id": "d9623b37-0880-4a07-8fa5-3198e2f82b54",
   "metadata": {},
   "outputs": [
    {
     "data": {
      "text/html": [
       "<div>\n",
       "<style scoped>\n",
       "    .dataframe tbody tr th:only-of-type {\n",
       "        vertical-align: middle;\n",
       "    }\n",
       "\n",
       "    .dataframe tbody tr th {\n",
       "        vertical-align: top;\n",
       "    }\n",
       "\n",
       "    .dataframe thead th {\n",
       "        text-align: right;\n",
       "    }\n",
       "</style>\n",
       "<table border=\"1\" class=\"dataframe\">\n",
       "  <thead>\n",
       "    <tr style=\"text-align: right;\">\n",
       "      <th></th>\n",
       "      <th>name</th>\n",
       "      <th>education</th>\n",
       "      <th>IQ</th>\n",
       "    </tr>\n",
       "  </thead>\n",
       "  <tbody>\n",
       "    <tr>\n",
       "      <th>0</th>\n",
       "      <td>faizan</td>\n",
       "      <td>bsc physics</td>\n",
       "      <td>10</td>\n",
       "    </tr>\n",
       "    <tr>\n",
       "      <th>1</th>\n",
       "      <td>furkan</td>\n",
       "      <td>bsc zoology</td>\n",
       "      <td>9</td>\n",
       "    </tr>\n",
       "    <tr>\n",
       "      <th>2</th>\n",
       "      <td>Grish</td>\n",
       "      <td>bsc chemistry</td>\n",
       "      <td>9.5</td>\n",
       "    </tr>\n",
       "    <tr>\n",
       "      <th>3</th>\n",
       "      <td>satish</td>\n",
       "      <td>bsc physics + medical coding</td>\n",
       "      <td>10+</td>\n",
       "    </tr>\n",
       "  </tbody>\n",
       "</table>\n",
       "</div>"
      ],
      "text/plain": [
       "     name                     education   IQ\n",
       "0  faizan                   bsc physics   10\n",
       "1  furkan                   bsc zoology    9\n",
       "2   Grish                 bsc chemistry  9.5\n",
       "3  satish  bsc physics + medical coding  10+"
      ]
     },
     "execution_count": 23,
     "metadata": {},
     "output_type": "execute_result"
    }
   ],
   "source": [
    "dataa"
   ]
  },
  {
   "cell_type": "code",
   "execution_count": 20,
   "id": "11cb4053-42d9-4806-a589-85604a284352",
   "metadata": {},
   "outputs": [],
   "source": [
    "seris = [1,2,3,4]"
   ]
  },
  {
   "cell_type": "code",
   "execution_count": 21,
   "id": "b8204603-3d0c-423d-b788-16b0117b53d7",
   "metadata": {},
   "outputs": [
    {
     "data": {
      "text/plain": [
       "0    1\n",
       "1    2\n",
       "2    3\n",
       "3    4\n",
       "dtype: int64"
      ]
     },
     "execution_count": 21,
     "metadata": {},
     "output_type": "execute_result"
    }
   ],
   "source": [
    "pandas.Series(seris)"
   ]
  },
  {
   "cell_type": "markdown",
   "id": "3f48b8c9-be76-4ec5-8225-4fbff8ca58e6",
   "metadata": {},
   "source": [
    "Q5. What are some common functions you can use to manipulate data in a Pandas DataFrame? Can\n",
    "you give an example of when you might use one of these functions?"
   ]
  },
  {
   "cell_type": "code",
   "execution_count": 26,
   "id": "c90292b7-025a-46d9-80af-05b22c33087d",
   "metadata": {},
   "outputs": [
    {
     "data": {
      "text/html": [
       "<div>\n",
       "<style scoped>\n",
       "    .dataframe tbody tr th:only-of-type {\n",
       "        vertical-align: middle;\n",
       "    }\n",
       "\n",
       "    .dataframe tbody tr th {\n",
       "        vertical-align: top;\n",
       "    }\n",
       "\n",
       "    .dataframe thead th {\n",
       "        text-align: right;\n",
       "    }\n",
       "</style>\n",
       "<table border=\"1\" class=\"dataframe\">\n",
       "  <thead>\n",
       "    <tr style=\"text-align: right;\">\n",
       "      <th></th>\n",
       "      <th>name</th>\n",
       "      <th>education</th>\n",
       "      <th>IQ</th>\n",
       "    </tr>\n",
       "  </thead>\n",
       "  <tbody>\n",
       "    <tr>\n",
       "      <th>0</th>\n",
       "      <td>faizan</td>\n",
       "      <td>bsc physics</td>\n",
       "      <td>10</td>\n",
       "    </tr>\n",
       "  </tbody>\n",
       "</table>\n",
       "</div>"
      ],
      "text/plain": [
       "     name    education  IQ\n",
       "0  faizan  bsc physics  10"
      ]
     },
     "execution_count": 26,
     "metadata": {},
     "output_type": "execute_result"
    }
   ],
   "source": [
    "dataa.head(1) # to find top data line"
   ]
  },
  {
   "cell_type": "markdown",
   "id": "702e1228-7305-4b8a-b424-c3e8642c253d",
   "metadata": {},
   "source": [
    "dataa.tail(1)   # to find last data line "
   ]
  },
  {
   "cell_type": "code",
   "execution_count": 29,
   "id": "3c5f515c-70c0-4ff5-9e91-cc3bdc746d7e",
   "metadata": {},
   "outputs": [
    {
     "data": {
      "text/plain": [
       "Index(['name', 'education', 'IQ'], dtype='object')"
      ]
     },
     "execution_count": 29,
     "metadata": {},
     "output_type": "execute_result"
    }
   ],
   "source": [
    "dataa.columns"
   ]
  },
  {
   "cell_type": "markdown",
   "id": "4f902aa5-a403-45ed-a0b7-5a085114d3e1",
   "metadata": {},
   "source": [
    "Q6. Which of the following is mutable in nature Series, DataFrame, Panel?"
   ]
  },
  {
   "cell_type": "markdown",
   "id": "9a03be0c-39f7-4507-b516-6568e50d3ec7",
   "metadata": {},
   "source": [
    "dataFrame"
   ]
  },
  {
   "cell_type": "markdown",
   "id": "9795d835-b42b-4214-826f-59cb83725b3f",
   "metadata": {},
   "source": [
    "Q7. Create a DataFrame using multiple Series. Explain with an example."
   ]
  },
  {
   "cell_type": "code",
   "execution_count": 32,
   "id": "3f617684-f519-4475-b582-fe5bbfee93b3",
   "metadata": {},
   "outputs": [],
   "source": [
    "data1 = [1,2,3,4,5]\n",
    "data2 = [1.2, 2.1, 3.2, 4.2, 5.2]\n"
   ]
  },
  {
   "cell_type": "code",
   "execution_count": 34,
   "id": "1d7b2b46-ffdd-4403-9a36-b3445ace40e2",
   "metadata": {},
   "outputs": [],
   "source": [
    "var = {\"integers\" : data1,\n",
    "      \"float\" : data2}"
   ]
  },
  {
   "cell_type": "code",
   "execution_count": 35,
   "id": "cded4d14-f628-44bf-b8ac-d10135102bff",
   "metadata": {},
   "outputs": [
    {
     "data": {
      "text/html": [
       "<div>\n",
       "<style scoped>\n",
       "    .dataframe tbody tr th:only-of-type {\n",
       "        vertical-align: middle;\n",
       "    }\n",
       "\n",
       "    .dataframe tbody tr th {\n",
       "        vertical-align: top;\n",
       "    }\n",
       "\n",
       "    .dataframe thead th {\n",
       "        text-align: right;\n",
       "    }\n",
       "</style>\n",
       "<table border=\"1\" class=\"dataframe\">\n",
       "  <thead>\n",
       "    <tr style=\"text-align: right;\">\n",
       "      <th></th>\n",
       "      <th>integers</th>\n",
       "      <th>float</th>\n",
       "    </tr>\n",
       "  </thead>\n",
       "  <tbody>\n",
       "    <tr>\n",
       "      <th>0</th>\n",
       "      <td>1</td>\n",
       "      <td>1.2</td>\n",
       "    </tr>\n",
       "    <tr>\n",
       "      <th>1</th>\n",
       "      <td>2</td>\n",
       "      <td>2.1</td>\n",
       "    </tr>\n",
       "    <tr>\n",
       "      <th>2</th>\n",
       "      <td>3</td>\n",
       "      <td>3.2</td>\n",
       "    </tr>\n",
       "    <tr>\n",
       "      <th>3</th>\n",
       "      <td>4</td>\n",
       "      <td>4.2</td>\n",
       "    </tr>\n",
       "    <tr>\n",
       "      <th>4</th>\n",
       "      <td>5</td>\n",
       "      <td>5.2</td>\n",
       "    </tr>\n",
       "  </tbody>\n",
       "</table>\n",
       "</div>"
      ],
      "text/plain": [
       "   integers  float\n",
       "0         1    1.2\n",
       "1         2    2.1\n",
       "2         3    3.2\n",
       "3         4    4.2\n",
       "4         5    5.2"
      ]
     },
     "execution_count": 35,
     "metadata": {},
     "output_type": "execute_result"
    }
   ],
   "source": [
    "pandas.DataFrame(var)"
   ]
  },
  {
   "cell_type": "code",
   "execution_count": null,
   "id": "5422798a-8cc2-41e3-9abe-a298a2d7b67c",
   "metadata": {},
   "outputs": [],
   "source": []
  }
 ],
 "metadata": {
  "kernelspec": {
   "display_name": "Python 3 (ipykernel)",
   "language": "python",
   "name": "python3"
  },
  "language_info": {
   "codemirror_mode": {
    "name": "ipython",
    "version": 3
   },
   "file_extension": ".py",
   "mimetype": "text/x-python",
   "name": "python",
   "nbconvert_exporter": "python",
   "pygments_lexer": "ipython3",
   "version": "3.10.8"
  }
 },
 "nbformat": 4,
 "nbformat_minor": 5
}
